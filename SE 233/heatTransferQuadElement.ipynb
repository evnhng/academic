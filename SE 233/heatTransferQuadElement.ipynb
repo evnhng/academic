{
 "cells": [
  {
   "cell_type": "code",
   "execution_count": 1,
   "id": "9363d6ed",
   "metadata": {},
   "outputs": [],
   "source": [
    "import numpy as np\n",
    "from numpy import dot as dot\n",
    "from numpy import linalg as linalg\n",
    "from numpy import diff as diff\n",
    "from numpy import array as array\n",
    "from numpy import zeros as zeros\n",
    "from numpy import ones as ones\n",
    "from numpy import arange as arange\n",
    "import matplotlib.pyplot as plt"
   ]
  },
  {
   "cell_type": "code",
   "execution_count": 2,
   "id": "186d5fd7",
   "metadata": {},
   "outputs": [],
   "source": [
    "N = 4 # number of nodes\n",
    "N_f = 2 # number of free DOF\n",
    "node2dof = array([2, 1, 4, 3])"
   ]
  },
  {
   "cell_type": "code",
   "execution_count": 3,
   "id": "3ce6305f",
   "metadata": {},
   "outputs": [],
   "source": [
    "T = zeros(N).reshape(N,1) # initialize temperature matrix"
   ]
  },
  {
   "cell_type": "code",
   "execution_count": 4,
   "id": "b0559a19",
   "metadata": {},
   "outputs": [],
   "source": [
    "grad_N_xieta = array([[-1,-1],[1,0],[0,1]]) # parametric basis functions\n",
    "\n",
    "conn = array([[4,2,1],[3,2,4]]) # connectivity of the mesh\n",
    "\n",
    "connbext = array([[2,1]]) # connectivity of the film condition"
   ]
  },
  {
   "cell_type": "code",
   "execution_count": 5,
   "id": "3c356f9e",
   "metadata": {},
   "outputs": [],
   "source": [
    "K = zeros((N_f,N)) # global conductivity\n",
    "L = zeros((N_f,1)) # global heat load"
   ]
  },
  {
   "cell_type": "code",
   "execution_count": 6,
   "id": "0a34ae1e",
   "metadata": {},
   "outputs": [],
   "source": [
    "# Coordinates\n",
    "x = array([[-0.033, 0],[-0.0286, 0.0165],[-0.0141, 0.00815],[-0.0163, 0]])"
   ]
  },
  {
   "cell_type": "code",
   "execution_count": 7,
   "id": "dcb347fb",
   "metadata": {},
   "outputs": [],
   "source": [
    "k = 51 # W/m^2/K\n",
    "dZ = 1 # thickness of slice\n",
    "ho = 125 # film coefficient of exterior\n",
    "Tw = 90 # water temp, inside of pipe\n",
    "Ta = -5 # air temp, outside of pipe\n",
    "\n",
    "zconn = conn -1"
   ]
  },
  {
   "cell_type": "code",
   "execution_count": 9,
   "id": "4cde1645",
   "metadata": {},
   "outputs": [],
   "source": [
    "for j in arange(zconn.shape[0]):\n",
    "    J = dot(x[zconn[j,:],:].T, grad_N_xieta) # Jacobian computations\n",
    "    grad_N = dot(grad_N_xieta, linalg.inv(J)) # x,y, gradients of basis functions\n",
    "    Ke = (k*dZ*linalg.det(J)/2)*dot(grad_N,grad_N.T) # elementwise matrix\n",
    "    # element dof array, with index starting at 0\n",
    "    zedof = array(node2dof[zconn[j,:]])-1\n",
    "    # Assemble elementwise conductivity matrix.\n",
    "    for ro in arange(len(zedof)):\n",
    "        for co in arange(len(zedof)):\n",
    "            if (zedof[ro] < N_f):\n",
    "                K[zedof[ro], zedof[co]] = K[zedof[ro], zedof[co]]+ Ke[ro,co]\n"
   ]
  },
  {
   "cell_type": "code",
   "execution_count": 10,
   "id": "9984a40e",
   "metadata": {
    "scrolled": true
   },
   "outputs": [
    {
     "name": "stdout",
     "output_type": "stream",
     "text": [
      "[[ 39.11747825 -19.00909091  -0.04846205 -20.0599253 ]\n",
      " [-19.00909091  39.19531845 -20.18622754   0.        ]]\n"
     ]
    }
   ],
   "source": [
    "print(K)"
   ]
  },
  {
   "cell_type": "code",
   "execution_count": 11,
   "id": "b1df3f08",
   "metadata": {},
   "outputs": [],
   "source": [
    "H = zeros((N_f,N)) # global film condition matrix\n",
    "zconn = connbext - 1\n",
    "for j in arange(zconn.shape[0]):\n",
    "    he = linalg.norm(diff(x[zconn[j,:],:], axis=0))\n",
    "    zedof = array(node2dof[zconn[j,:]])-1\n",
    "    He = ho*dZ*he/6*array([[2,1],[1,2]])\n",
    "    for ro in arange(len(zedof)):\n",
    "        for co in arange(len(zedof)):\n",
    "            if (zedof[ro] < N_f):\n",
    "                H[zedof[ro], zedof[co]] = H[zedof[ro], zedof[co]]+ He[ro,co]\n",
    "    Lea = Ta*ho*he*dZ/2*array([[1],[1]])\n",
    "    for ro in arange(len(zedof)):\n",
    "        if (zedof[ro] < N_f):\n",
    "            L[zedof[ro]] = L[zedof[ro]] + Lea[ro]"
   ]
  },
  {
   "cell_type": "code",
   "execution_count": 12,
   "id": "352911ee",
   "metadata": {},
   "outputs": [
    {
     "name": "stdout",
     "output_type": "stream",
     "text": [
      "[[0.71152467 0.35576234 0.         0.        ]\n",
      " [0.35576234 0.71152467 0.         0.        ]]\n",
      "[[-5.33643505]\n",
      " [-5.33643505]]\n"
     ]
    }
   ],
   "source": [
    "print(H) # print film condition matrix.\n",
    "print(L)"
   ]
  },
  {
   "cell_type": "code",
   "execution_count": 15,
   "id": "ac9b068d",
   "metadata": {},
   "outputs": [
    {
     "name": "stdout",
     "output_type": "stream",
     "text": [
      "[[1811.8]\n",
      " [1804.6]]\n"
     ]
    }
   ],
   "source": [
    "LQ = array([[1811.8],[1804.6]])\n",
    "\n",
    "print(LQ) # print heat load vector. \n"
   ]
  },
  {
   "cell_type": "code",
   "execution_count": 16,
   "id": "e11162db",
   "metadata": {},
   "outputs": [
    {
     "name": "stdout",
     "output_type": "stream",
     "text": [
      "T= [[85.35219501]\n",
      " [85.11579147]\n",
      " [90.        ]\n",
      " [90.        ]]\n"
     ]
    }
   ],
   "source": [
    "T[0:N_f] = linalg.solve(K[0:N_f, 0:N_f] + H[0:N_f, 0:N_f], LQ)\n",
    "T[2] = Tw\n",
    "T[3] = Tw\n",
    "print('T=', T)"
   ]
  },
  {
   "cell_type": "code",
   "execution_count": 17,
   "id": "572a05ca",
   "metadata": {},
   "outputs": [
    {
     "name": "stdout",
     "output_type": "stream",
     "text": [
      "Node 1 T= [85.11579147]\n",
      "Node 2 T= [85.35219501]\n",
      "Node 3 T= [90.]\n",
      "Node 4 T= [90.]\n"
     ]
    }
   ],
   "source": [
    "for index in arange(node2dof.shape[0]):\n",
    "    print('Node', index + 1, 'T=', T[node2dof[index] - 1])"
   ]
  },
  {
   "cell_type": "code",
   "execution_count": 18,
   "id": "4f326a18",
   "metadata": {},
   "outputs": [
    {
     "data": {
      "image/png": "[encoded data removed]",
      "text/plain": [
       "<Figure size 432x288 with 2 Axes>"
      ]
     },
     "metadata": {
      "needs_background": "light"
     },
     "output_type": "display_data"
    }
   ],
   "source": [
    "# Plot filled contours\n",
    "plt.figure()\n",
    "plt.gca().set_aspect('equal')\n",
    "# setup three 1-d arrays for the x-coordinate, the y-coordinate, and the\n",
    "# z-coordinate\n",
    "xs = x[:, 0].reshape(N,)  # one value per node\n",
    "ys = x[:, 1].reshape(N,)  # one value per node\n",
    "ix = node2dof[arange(N)] - 1\n",
    "zs = (T[ix]).reshape(N,)  # one value per node\n",
    "triangles = conn - 1  # the triangles are defined by the connectivity arrays\n",
    "plt.tricontourf(xs, ys, triangles, zs)\n",
    "plt.colorbar()\n",
    "plt.title('Contour plot of temperature')\n",
    "plt.xlabel('x (m)')\n",
    "plt.ylabel('y (m)')\n",
    "plt.show()"
   ]
  },
  {
   "cell_type": "code",
   "execution_count": 22,
   "id": "dafc4dff",
   "metadata": {},
   "outputs": [
    {
     "name": "stdout",
     "output_type": "stream",
     "text": [
      "[ 79.09678128 -20.0599253  -59.03685598]\n"
     ]
    }
   ],
   "source": [
    "print(Ke[0,:])"
   ]
  }
 ],
 "metadata": {
  "kernelspec": {
   "display_name": "Python 3",
   "language": "python",
   "name": "python3"
  },
  "language_info": {
   "codemirror_mode": {
    "name": "ipython",
    "version": 3
   },
   "file_extension": ".py",
   "mimetype": "text/x-python",
   "name": "python",
   "nbconvert_exporter": "python",
   "pygments_lexer": "ipython3",
   "version": "3.8.8"
  }
 },
 "nbformat": 4,
 "nbformat_minor": 5
}
